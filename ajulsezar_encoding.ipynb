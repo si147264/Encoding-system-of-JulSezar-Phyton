{
 "cells": [
  {
   "cell_type": "code",
   "execution_count": 1,
   "id": "bdde8d24-6463-44b5-b07e-c994bc64b0de",
   "metadata": {},
   "outputs": [
    {
     "name": "stdout",
     "output_type": "stream",
     "text": [
      "Coding Programme of Jul Sezar\n",
      "1. Coding\n",
      "2. Decoding\n",
      "3. Exit\n"
     ]
    },
    {
     "name": "stdin",
     "output_type": "stream",
     "text": [
      "Opt for an option (1/2/3):  1\n",
      "Determine your password:  hello\n",
      "Decide how much gap your letters go upwards:  3\n"
     ]
    },
    {
     "name": "stdout",
     "output_type": "stream",
     "text": [
      "Encoded password: ['k', 'h', 'o', 'o', 'r']\n"
     ]
    },
    {
     "name": "stdin",
     "output_type": "stream",
     "text": [
      "Opt for an option (1/2/3):  2\n",
      "Enter your encoded password:  khoor\n",
      "Decide how much gap your letters go downwards:  3\n"
     ]
    },
    {
     "name": "stdout",
     "output_type": "stream",
     "text": [
      "Decoded password: ['h', 'e', 'l', 'l', 'o']\n"
     ]
    },
    {
     "name": "stdin",
     "output_type": "stream",
     "text": [
      "Opt for an option (1/2/3):  3\n"
     ]
    },
    {
     "name": "stdout",
     "output_type": "stream",
     "text": [
      "Exiting the program.\n"
     ]
    }
   ],
   "source": [
    "print(\"Coding Programme of Jul Sezar\")\n",
    "print(\"1. Coding\")\n",
    "print(\"2. Decoding\")\n",
    "print(\"3. Exit\")\n",
    "\n",
    "while True:\n",
    "    option = int(input(\"Opt for an option (1/2/3): \"))\n",
    "    \n",
    "    if option == 1: \n",
    "        password = input(\"Determine your password: \")\n",
    "        gap = int(input(\"Decide how much gap your letters go upwards: \"))\n",
    "        encoded_list = []\n",
    "        \n",
    "        for character in password:\n",
    "            if character.isalpha(): \n",
    "                gap = gap % 26\n",
    "                base = ord(\"a\") if character.islower() else ord(\"A\")\n",
    "                encoded_character = chr((ord(character) - base + gap) % 26 + base)\n",
    "                encoded_list.append(encoded_character)\n",
    "            else:\n",
    "                encoded_list.append(character)  \n",
    "        \n",
    "        print(\"Encoded password:\", encoded_list)\n",
    "        \n",
    "    elif option == 2:\n",
    "        password = input(\"Enter your encoded password: \")\n",
    "        gap = int(input(\"Decide how much gap your letters go downwards: \"))\n",
    "       \n",
    "        decoded_list = []\n",
    "        \n",
    "        for character in password:\n",
    "            if character.isalpha(): \n",
    "                gap = gap % 26\n",
    "                base = ord(\"a\") if character.islower() else ord(\"A\")\n",
    "                decoded_character = chr((ord(character) - base - gap) % 26 + base)\n",
    "                decoded_list.append(decoded_character)\n",
    "            else:\n",
    "                decoded_list.append(character) \n",
    "        \n",
    "        print(\"Decoded password:\", decoded_list)\n",
    "    \n",
    "    elif option == 3: \n",
    "        print(\"Exiting the program.\")\n",
    "        break\n",
    "    \n",
    "    else:\n",
    "        print(\"Invalid option, please choose again.\")\n",
    "\n",
    "\n",
    "          "
   ]
  },
  {
   "cell_type": "code",
   "execution_count": null,
   "id": "8748ca19-00de-40d3-b21f-a53278fe1ed6",
   "metadata": {},
   "outputs": [],
   "source": []
  }
 ],
 "metadata": {
  "kernelspec": {
   "display_name": "Python 3 (ipykernel)",
   "language": "python",
   "name": "python3"
  },
  "language_info": {
   "codemirror_mode": {
    "name": "ipython",
    "version": 3
   },
   "file_extension": ".py",
   "mimetype": "text/x-python",
   "name": "python",
   "nbconvert_exporter": "python",
   "pygments_lexer": "ipython3",
   "version": "3.12.4"
  }
 },
 "nbformat": 4,
 "nbformat_minor": 5
}
